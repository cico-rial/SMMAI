{
 "cells": [
  {
   "cell_type": "markdown",
   "id": "bade4d1e",
   "metadata": {},
   "source": [
    "# Homework 3\n",
    "### Optimization via Stochastic Gradient Descent.\n",
    "Here goes the text of the problem."
   ]
  },
  {
   "cell_type": "markdown",
   "id": "62102320",
   "metadata": {},
   "source": [
    "The following has been written by me during classes."
   ]
  },
  {
   "cell_type": "code",
   "execution_count": 1,
   "id": "e3ca9a68",
   "metadata": {},
   "outputs": [],
   "source": [
    "from utility import train_test_split\n",
    "import pandas as pd\n",
    "import numpy as np\n",
    "import matplotlib.pyplot as plt"
   ]
  },
  {
   "cell_type": "code",
   "execution_count": 2,
   "id": "3c5430b0",
   "metadata": {},
   "outputs": [],
   "source": [
    "def plot_error(e, err):\n",
    "    \"\"\"\n",
    "    This function enables you to simply plot the error\n",
    "    of the gradient descent with respect to the epoch e\n",
    "    \"\"\"\n",
    "\n",
    "    plt.figure(figsize=(8, 4))\n",
    "    plt.plot(e, err, 'r-')\n",
    "    plt.xlabel('n-th epoch')\n",
    "    plt.ylabel('Error (||\\u2207ƒ||_2)')\n",
    "    plt.title('Error for different n')\n",
    "    plt.grid()\n",
    "    plt.show()"
   ]
  },
  {
   "cell_type": "code",
   "execution_count": 3,
   "id": "0cd50c84",
   "metadata": {},
   "outputs": [
    {
     "data": {
      "image/png": "[encoded data removed]",
      "text/plain": [
       "<Figure size 1000x400 with 1 Axes>"
      ]
     },
     "metadata": {},
     "output_type": "display_data"
    }
   ],
   "source": [
    "# Define sigmoid\n",
    "def sigmoid(x):\n",
    "    return 1/(1+np.exp(-(x)))\n",
    "\n",
    "a = np.linspace(-6,6,100)\n",
    "plt.figure(figsize=(10,4))\n",
    "plt.plot(a, sigmoid(a),'r-')\n",
    "plt.grid()\n",
    "plt.title(\"Defining sigmoid(x)\")\n",
    "plt.show()"
   ]
  },
  {
   "cell_type": "code",
   "execution_count": 4,
   "id": "0781b004",
   "metadata": {},
   "outputs": [],
   "source": [
    "def f(w, xhat):\n",
    "    return sigmoid(xhat.T@w)\n",
    "\n",
    "def grad_f(w, xhat):\n",
    "    return f(w, xhat)*(1-f(w, xhat))"
   ]
  },
  {
   "cell_type": "code",
   "execution_count": 5,
   "id": "e5fa5979",
   "metadata": {},
   "outputs": [],
   "source": [
    "def loss(w, X, Y):\n",
    "    d,N = X.shape\n",
    "#     return np.mean(np.square(f(w,X) - Y))/(2*N)\n",
    "    return (1/2*N)*np.linalg.norm(f(w,X) - Y)**2\n",
    "\n",
    "def grad_loss(w, X, Y):\n",
    "    d,N = X.shape\n",
    "    return (X@(f(w,X)*(1-f(w,X))*(f(w,X)-Y)))/N"
   ]
  },
  {
   "cell_type": "code",
   "execution_count": 6,
   "id": "23b39952",
   "metadata": {},
   "outputs": [],
   "source": [
    "def get_Xhat(X, N):\n",
    "    Xhat = np.concatenate((np.ones((1,N)), X), axis=0)\n",
    "    return Xhat"
   ]
  },
  {
   "cell_type": "code",
   "execution_count": 7,
   "id": "d0c8ffcb",
   "metadata": {},
   "outputs": [],
   "source": [
    "def normalize(y,C1,C2):\n",
    "    y_normalized = y.copy()\n",
    "    y_normalized[y_normalized==C1] = 0\n",
    "    y_normalized[y_normalized==C2] = 1\n",
    "    return y_normalized"
   ]
  },
  {
   "cell_type": "code",
   "execution_count": 8,
   "id": "9b430be6",
   "metadata": {},
   "outputs": [],
   "source": [
    "def predict(w, X_test, threshold):\n",
    "    y_pred = f(w, Xhat_test)\n",
    "    y_pred[y_pred>threshold] = 1\n",
    "    y_pred[y_pred<=threshold] = 0\n",
    "    correct = np.sum(y_pred == y_test)\n",
    "    accuracy = correct/y_test.shape[-1]\n",
    "    return accuracy"
   ]
  },
  {
   "cell_type": "code",
   "execution_count": 9,
   "id": "01742bb3",
   "metadata": {},
   "outputs": [],
   "source": [
    "def backtracking(f, grad_f, x, multivariate, D):\n",
    "    \"\"\"\n",
    "    This function is a simple implementation of the backtracking algorithm for\n",
    "    the GD (Gradient Descent) method.\n",
    "\n",
    "    f: function. The function that we want to optimize.\n",
    "    grad_f: function. The gradient of f(x).\n",
    "    x: ndarray. The actual iterate x_k.\n",
    "    multivariate: boolean. Indicate whether the function f\n",
    "    is multivariate or not.\n",
    "    \"\"\"\n",
    "    X, y = D\n",
    "    y = y[0,:] # this is necessary to avoid problems with the shape during grad_loss computation\n",
    "    if multivariate:\n",
    "        norm = np.linalg.norm\n",
    "    else:\n",
    "        norm = np.abs\n",
    "\n",
    "    alpha = 1\n",
    "    c = 0.8\n",
    "    tau = 0.25\n",
    "\n",
    "    while f((x - alpha * grad_f(x, X, y)), X, y) > f(x, X, y) - c * alpha * norm(grad_f(x, X, y)) ** 2:\n",
    "        alpha = tau * alpha\n",
    "\n",
    "        if alpha < 1e-3:\n",
    "            break\n",
    "    return alpha\n",
    "\n",
    "\n",
    "def GD(loss, grad_loss, w0, D, kmax, tolf, tolx, back_tracking=False, alpha=1, multivariate=True):\n",
    "    \"\"\"\n",
    "    This function implements the Gradient Descent algorithm.\n",
    "    \"\"\"\n",
    "    if multivariate:\n",
    "        norm = np.linalg.norm\n",
    "    else:\n",
    "        norm = np.abs\n",
    "    X,y = D\n",
    "    y = y[0,:] # this is necessary to avoid problems with the shape during grad_loss computation\n",
    "    # Initialize x_k\n",
    "    w_k = w0\n",
    "\n",
    "    # counter\n",
    "    k = 0\n",
    "\n",
    "    # Initialize the outputs\n",
    "    w = [w0]\n",
    "    f_val = [loss(w0,X,y)]\n",
    "    grads = [grad_loss(w0,X,y)]\n",
    "    err = [norm(grads[-1])]\n",
    "\n",
    "    # Loop\n",
    "    condition = True\n",
    "    while condition:\n",
    "        # Update alpha\n",
    "        if back_tracking:\n",
    "            alpha = backtracking(loss, grad_loss, w_k, multivariate, D)\n",
    "        # Update x\n",
    "        w_k = w_k - alpha * grad_loss(w_k,X,y)\n",
    "\n",
    "        # Update outputs\n",
    "        w.append(w_k)\n",
    "        f_val.append(loss(w_k,X,y))\n",
    "        grads.append(grad_loss(w_k,X,y))\n",
    "        err.append(norm(grads[-1]))\n",
    "\n",
    "        # check criteria\n",
    "        condition1 = norm(grad_loss(w_k,X,y)) > (tolf * norm(grad_loss(w0,X,y)))\n",
    "        condition2 = norm(w_k) > tolx\n",
    "        condition3 = k < kmax\n",
    "        condition = condition1 and condition2 and condition3\n",
    "\n",
    "        # update k\n",
    "        k += 1\n",
    "\n",
    "    return w_k, k, np.array(w), np.array(f_val), np.array(grads), np.array(err)"
   ]
  },
  {
   "cell_type": "markdown",
   "id": "f046053f",
   "metadata": {},
   "source": [
    "## Stochastic Gradient Descent\n",
    "You sample a batch of data, e.g. batch_size = 10 and you compute the values for batch_size instead of N.  \n",
    "Then you start again with another batch until you've finished your data. This is an **epoch**."
   ]
  },
  {
   "cell_type": "code",
   "execution_count": 47,
   "id": "e7aad05c",
   "metadata": {},
   "outputs": [],
   "source": [
    "# TASK (HARD)\n",
    "# Implement a function: \n",
    "# SGD(loss, grad_loss, f, grad_f, D, batch_size, n_epochs) (you can also define f and grad_f globally)\n",
    "# that implements the Stochastic Gradient Descent algorithm with\n",
    "# given batch_size for the given number of epochs.\n",
    "# alpha <-> learning_rate FIXED at 1e-3 (it doesn't have stopping conditions)\n",
    "\n",
    "# Note: as what i've understood the learning rate cannot be automatically recomputed, \n",
    "# it has to be set by hand\n",
    "\n",
    "# f and grad_f could be defined globally\n",
    "def SGD(loss, grad_loss, w0, D, batch_size, n_epochs, learning_rate=1e-3):\n",
    "    # Initialize the parameters w\n",
    "    w = w0\n",
    "        \n",
    "    # Extract X and y from D\n",
    "    X, y = D\n",
    "    \n",
    "    # Save in memory the length of X (and y)    They have the same dimension\n",
    "    d,N = X.shape\n",
    "    \n",
    "    # We assume that batch_size divides N\n",
    "    # Compute the number of batches per epoch\n",
    "    \n",
    "    n_batch_per_epoch = N // batch_size # integer division in case batch_size doesn't divide N\n",
    "    \n",
    "     # Initialize the output\n",
    "    \n",
    "    # a vector containing the value of l(w_k; D) after each epoch\n",
    "    loss_history = np.zeros((n_epochs,))\n",
    "    # a vector (w) containing the value of w_k for each iterate\n",
    "    w_history = np.zeros((n_epochs, d))\n",
    "    # a vector containing the value of grad_l(w_k; D) after each epoch\n",
    "    grad_loss_history = np.zeros((n_epochs,d))\n",
    "    # a vector containing the value of ||grad_l(w_k; D)||_2 after each epoch\n",
    "    err = np.zeros((n_epochs,))\n",
    "    \n",
    "    # Iterate over the epochs\n",
    "    for epoch in range(n_epochs):\n",
    "        idx = np.arange(N)\n",
    "        np.random.shuffle(idx)\n",
    "        \n",
    "        # Batch iteration\n",
    "        for k in range(n_batch_per_epoch):\n",
    "            X_batch = X[:, idx[k * batch_size : (k+1) * batch_size]]\n",
    "            y_batch = y[0, idx[k * batch_size : (k+1) * batch_size]]\n",
    "            \n",
    "            B = (X_batch, y_batch) # it should not be necessary to define B.\n",
    "            \n",
    "            # Gradient descent update\n",
    "            # The gradient has to be computed in B, \n",
    "            # it cannot be computed on the entire dataset as it will crash!!\n",
    "            gradient = grad_loss(w, X_batch, y_batch)\n",
    "            w = w - learning_rate * gradient\n",
    "            \n",
    "        w_history[epoch] = w \n",
    "        loss_history[epoch] = loss(w, X_batch, y_batch)  \n",
    "        grad_loss_history[epoch] = gradient\n",
    "        err[epoch] = np.linalg.norm(gradient)\n",
    "        \n",
    "        \n",
    "    return w, w_history, loss_history, grad_loss_history, err"
   ]
  },
  {
   "cell_type": "code",
   "execution_count": 11,
   "id": "d9118117",
   "metadata": {},
   "outputs": [
    {
     "data": {
      "text/html": [
       "<div>\n",
       "<style scoped>\n",
       "    .dataframe tbody tr th:only-of-type {\n",
       "        vertical-align: middle;\n",
       "    }\n",
       "\n",
       "    .dataframe tbody tr th {\n",
       "        vertical-align: top;\n",
       "    }\n",
       "\n",
       "    .dataframe thead th {\n",
       "        text-align: right;\n",
       "    }\n",
       "</style>\n",
       "<table border=\"1\" class=\"dataframe\">\n",
       "  <thead>\n",
       "    <tr style=\"text-align: right;\">\n",
       "      <th></th>\n",
       "      <th>label</th>\n",
       "      <th>pixel0</th>\n",
       "      <th>pixel1</th>\n",
       "      <th>pixel2</th>\n",
       "      <th>pixel3</th>\n",
       "      <th>pixel4</th>\n",
       "      <th>pixel5</th>\n",
       "      <th>pixel6</th>\n",
       "      <th>pixel7</th>\n",
       "      <th>pixel8</th>\n",
       "      <th>...</th>\n",
       "      <th>pixel774</th>\n",
       "      <th>pixel775</th>\n",
       "      <th>pixel776</th>\n",
       "      <th>pixel777</th>\n",
       "      <th>pixel778</th>\n",
       "      <th>pixel779</th>\n",
       "      <th>pixel780</th>\n",
       "      <th>pixel781</th>\n",
       "      <th>pixel782</th>\n",
       "      <th>pixel783</th>\n",
       "    </tr>\n",
       "  </thead>\n",
       "  <tbody>\n",
       "    <tr>\n",
       "      <th>0</th>\n",
       "      <td>1</td>\n",
       "      <td>0</td>\n",
       "      <td>0</td>\n",
       "      <td>0</td>\n",
       "      <td>0</td>\n",
       "      <td>0</td>\n",
       "      <td>0</td>\n",
       "      <td>0</td>\n",
       "      <td>0</td>\n",
       "      <td>0</td>\n",
       "      <td>...</td>\n",
       "      <td>0</td>\n",
       "      <td>0</td>\n",
       "      <td>0</td>\n",
       "      <td>0</td>\n",
       "      <td>0</td>\n",
       "      <td>0</td>\n",
       "      <td>0</td>\n",
       "      <td>0</td>\n",
       "      <td>0</td>\n",
       "      <td>0</td>\n",
       "    </tr>\n",
       "    <tr>\n",
       "      <th>1</th>\n",
       "      <td>0</td>\n",
       "      <td>0</td>\n",
       "      <td>0</td>\n",
       "      <td>0</td>\n",
       "      <td>0</td>\n",
       "      <td>0</td>\n",
       "      <td>0</td>\n",
       "      <td>0</td>\n",
       "      <td>0</td>\n",
       "      <td>0</td>\n",
       "      <td>...</td>\n",
       "      <td>0</td>\n",
       "      <td>0</td>\n",
       "      <td>0</td>\n",
       "      <td>0</td>\n",
       "      <td>0</td>\n",
       "      <td>0</td>\n",
       "      <td>0</td>\n",
       "      <td>0</td>\n",
       "      <td>0</td>\n",
       "      <td>0</td>\n",
       "    </tr>\n",
       "    <tr>\n",
       "      <th>2</th>\n",
       "      <td>1</td>\n",
       "      <td>0</td>\n",
       "      <td>0</td>\n",
       "      <td>0</td>\n",
       "      <td>0</td>\n",
       "      <td>0</td>\n",
       "      <td>0</td>\n",
       "      <td>0</td>\n",
       "      <td>0</td>\n",
       "      <td>0</td>\n",
       "      <td>...</td>\n",
       "      <td>0</td>\n",
       "      <td>0</td>\n",
       "      <td>0</td>\n",
       "      <td>0</td>\n",
       "      <td>0</td>\n",
       "      <td>0</td>\n",
       "      <td>0</td>\n",
       "      <td>0</td>\n",
       "      <td>0</td>\n",
       "      <td>0</td>\n",
       "    </tr>\n",
       "    <tr>\n",
       "      <th>3</th>\n",
       "      <td>4</td>\n",
       "      <td>0</td>\n",
       "      <td>0</td>\n",
       "      <td>0</td>\n",
       "      <td>0</td>\n",
       "      <td>0</td>\n",
       "      <td>0</td>\n",
       "      <td>0</td>\n",
       "      <td>0</td>\n",
       "      <td>0</td>\n",
       "      <td>...</td>\n",
       "      <td>0</td>\n",
       "      <td>0</td>\n",
       "      <td>0</td>\n",
       "      <td>0</td>\n",
       "      <td>0</td>\n",
       "      <td>0</td>\n",
       "      <td>0</td>\n",
       "      <td>0</td>\n",
       "      <td>0</td>\n",
       "      <td>0</td>\n",
       "    </tr>\n",
       "    <tr>\n",
       "      <th>4</th>\n",
       "      <td>0</td>\n",
       "      <td>0</td>\n",
       "      <td>0</td>\n",
       "      <td>0</td>\n",
       "      <td>0</td>\n",
       "      <td>0</td>\n",
       "      <td>0</td>\n",
       "      <td>0</td>\n",
       "      <td>0</td>\n",
       "      <td>0</td>\n",
       "      <td>...</td>\n",
       "      <td>0</td>\n",
       "      <td>0</td>\n",
       "      <td>0</td>\n",
       "      <td>0</td>\n",
       "      <td>0</td>\n",
       "      <td>0</td>\n",
       "      <td>0</td>\n",
       "      <td>0</td>\n",
       "      <td>0</td>\n",
       "      <td>0</td>\n",
       "    </tr>\n",
       "  </tbody>\n",
       "</table>\n",
       "<p>5 rows × 785 columns</p>\n",
       "</div>"
      ],
      "text/plain": [
       "   label  pixel0  pixel1  pixel2  pixel3  pixel4  pixel5  pixel6  pixel7  \\\n",
       "0      1       0       0       0       0       0       0       0       0   \n",
       "1      0       0       0       0       0       0       0       0       0   \n",
       "2      1       0       0       0       0       0       0       0       0   \n",
       "3      4       0       0       0       0       0       0       0       0   \n",
       "4      0       0       0       0       0       0       0       0       0   \n",
       "\n",
       "   pixel8  ...  pixel774  pixel775  pixel776  pixel777  pixel778  pixel779  \\\n",
       "0       0  ...         0         0         0         0         0         0   \n",
       "1       0  ...         0         0         0         0         0         0   \n",
       "2       0  ...         0         0         0         0         0         0   \n",
       "3       0  ...         0         0         0         0         0         0   \n",
       "4       0  ...         0         0         0         0         0         0   \n",
       "\n",
       "   pixel780  pixel781  pixel782  pixel783  \n",
       "0         0         0         0         0  \n",
       "1         0         0         0         0  \n",
       "2         0         0         0         0  \n",
       "3         0         0         0         0  \n",
       "4         0         0         0         0  \n",
       "\n",
       "[5 rows x 785 columns]"
      ]
     },
     "metadata": {},
     "output_type": "display_data"
    },
    {
     "data": {
      "text/plain": [
       "((784, 42000), (1, 42000))"
      ]
     },
     "execution_count": 11,
     "metadata": {},
     "output_type": "execute_result"
    }
   ],
   "source": [
    "df = pd.read_csv('dataset/mnist-data.csv')\n",
    "display(df.head())\n",
    "data_array= df.to_numpy()\n",
    "data_array = data_array.T\n",
    "X_mid, y_mid = data_array[1:,:], data_array[:1, :]\n",
    "X_mid.shape, y_mid.shape"
   ]
  },
  {
   "cell_type": "markdown",
   "id": "f2ab3624",
   "metadata": {},
   "source": [
    "To test the script above, consider the MNIST dataset we used in the previous laboratories, and do the\n",
    "following:\n",
    "1. From the dataset, select only two digits. It would be great to let the user input the two digits to\n",
    "select.\n",
    "2. Do the same operation of the previous homework to obtain the training and test set from (X, Y ),\n",
    "selecting the Ntrain you prefer.\n",
    "3. Consider Lecture 11 on my website about the implementation of Logistic Regression for binary\n",
    "classification https://www.evangelistadavide.com/teaching/logistic_regression2024/. It\n",
    "has not been described in class, but it is equivalent to Linear Regression with a slightly modified\n",
    "model. After carefully reading the post, implement a logistic regression classificator."
   ]
  },
  {
   "cell_type": "code",
   "execution_count": 12,
   "id": "85c78bce",
   "metadata": {
    "scrolled": true
   },
   "outputs": [
    {
     "name": "stdout",
     "output_type": "stream",
     "text": [
      "Select two classes of digits you wanna use! \n",
      "First one: 3\n",
      "Second one: 4\n"
     ]
    }
   ],
   "source": [
    "print(\"Select two classes of digits you wanna use! \")\n",
    "\n",
    "C1 = int(input(\"First one: \"))\n",
    "while C1 not in [d for d in range(0,10)]:\n",
    "    C1 = int(input(\"First one, but right! : \"))\n",
    "    \n",
    "C2 = int(input(\"Second one: \"))\n",
    "while C2 not in [d for d in range(0,10)] or C2 == C1:\n",
    "    C2 = int(input(\"Cmon, Second one! : \"))\n",
    "\n",
    "idx = (y_mid[0] == C1) | (y_mid[0] == C2)\n",
    "X = X_mid[:, idx]\n",
    "y = y_mid[:, idx]"
   ]
  },
  {
   "cell_type": "code",
   "execution_count": 13,
   "id": "f1c45526",
   "metadata": {},
   "outputs": [
    {
     "name": "stdout",
     "output_type": "stream",
     "text": [
      "Extracting random data points from the dataset:\n"
     ]
    },
    {
     "data": {
      "image/png": "[encoded data removed]",
      "text/plain": [
       "<Figure size 1000x1000 with 9 Axes>"
      ]
     },
     "metadata": {},
     "output_type": "display_data"
    }
   ],
   "source": [
    "# Verifying the correctness of the chosen classes\n",
    "i = np.random.choice(X.shape[1], size=9, replace=False)\n",
    "fig, axes = plt.subplots(1,9, figsize=(10,10))\n",
    "print(\"Extracting random data points from the dataset:\")\n",
    "\n",
    "for j, index in enumerate(i):\n",
    "    image = X[:, index].reshape(28,28)\n",
    "    axes[j].imshow(image, cmap=\"gray\")\n",
    "    axes[j].set_title(f\"label: {y[0, index]}\")\n",
    "    axes[j].axis(\"off\")"
   ]
  },
  {
   "cell_type": "markdown",
   "id": "a623e229",
   "metadata": {},
   "source": [
    "### Defining the train and test set\n",
    "I normalize y in order to deal with probability of being 0 or 1, but just inside the train_test_split so y is not overridden"
   ]
  },
  {
   "cell_type": "code",
   "execution_count": 14,
   "id": "f5cb5308",
   "metadata": {},
   "outputs": [],
   "source": [
    "N_train = int(0.8 * y.shape[1])\n",
    "X_train, y_train, X_test, y_test = train_test_split(X, normalize(y,C1,C2), N_train)\n",
    "\n",
    "# Create Xhat\n",
    "d,N = X_train.shape\n",
    "Xhat_train = get_Xhat(X_train, N)"
   ]
  },
  {
   "cell_type": "code",
   "execution_count": 53,
   "id": "8646767b",
   "metadata": {
    "scrolled": true
   },
   "outputs": [],
   "source": [
    "D_train = (Xhat_train, y_train)\n",
    "n_epochs = 100\n",
    "batch_size = 100\n",
    "learning_rate=1e-5\n",
    "w0 = np.zeros((Xhat_train.shape[0]))\n",
    "\n",
    "# Computing SGD\n",
    "w, w_history, loss_history, grad_loss_history, err = SGD(loss, grad_loss, w0, D_train, batch_size, n_epochs, learning_rate)"
   ]
  },
  {
   "cell_type": "code",
   "execution_count": 54,
   "id": "7dba1830",
   "metadata": {},
   "outputs": [
    {
     "data": {
      "image/png": "[encoded data removed]",
      "text/plain": [
       "<Figure size 800x400 with 1 Axes>"
      ]
     },
     "metadata": {},
     "output_type": "display_data"
    }
   ],
   "source": [
    "plot_error(range(err.shape[-1]),err)"
   ]
  },
  {
   "cell_type": "code",
   "execution_count": 55,
   "id": "68823ca3",
   "metadata": {},
   "outputs": [
    {
     "name": "stdout",
     "output_type": "stream",
     "text": [
      "Accuracy of the polynomial classficator for digits (3, 4): 99.64%\n"
     ]
    }
   ],
   "source": [
    "d,N = X_test.shape\n",
    "Xhat_test = get_Xhat(X_test, N)\n",
    "\n",
    "accuracy = predict(w, Xhat_test, 0.5)\n",
    "\n",
    "print(f\"Accuracy of the polynomial classficator for digits {C1, C2}: {round(accuracy*100,2)}%\")"
   ]
  },
  {
   "cell_type": "code",
   "execution_count": 58,
   "id": "cf1f1b77",
   "metadata": {},
   "outputs": [],
   "source": [
    "# Computing GD\n",
    "kmax = 1_00\n",
    "tolf = tolx = 1e-5\n",
    "w_k, k, ws, f_vals, grads, errs = GD(loss, grad_loss, w0, D_train, kmax, tolf, tolx, back_tracking=False, alpha=1e-5, multivariate=True)"
   ]
  },
  {
   "cell_type": "code",
   "execution_count": 59,
   "id": "56853a32",
   "metadata": {},
   "outputs": [
    {
     "data": {
      "image/png": "[encoded data removed]",
      "text/plain": [
       "<Figure size 800x400 with 1 Axes>"
      ]
     },
     "metadata": {},
     "output_type": "display_data"
    }
   ],
   "source": [
    "plot_error(range(errs.shape[-1]),errs)"
   ]
  },
  {
   "cell_type": "code",
   "execution_count": 60,
   "id": "c021208d",
   "metadata": {},
   "outputs": [
    {
     "name": "stdout",
     "output_type": "stream",
     "text": [
      "Accuracy of the polynomial classficator for digits (3, 4): 99.05%\n"
     ]
    }
   ],
   "source": [
    "d,N = X_test.shape\n",
    "Xhat_test = get_Xhat(X_test, N)\n",
    "accuracy_GD = predict(w_k, Xhat_test, 0.5)\n",
    "\n",
    "print(f\"Accuracy of the polynomial classficator for digits {C1, C2}: {round(accuracy_GD*100,2)}%\")"
   ]
  },
  {
   "cell_type": "markdown",
   "id": "c2a62250",
   "metadata": {},
   "source": [
    "### DONE"
   ]
  }
 ],
 "metadata": {
  "kernelspec": {
   "display_name": "Python 3 (ipykernel)",
   "language": "python",
   "name": "python3"
  },
  "language_info": {
   "codemirror_mode": {
    "name": "ipython",
    "version": 3
   },
   "file_extension": ".py",
   "mimetype": "text/x-python",
   "name": "python",
   "nbconvert_exporter": "python",
   "pygments_lexer": "ipython3",
   "version": "3.11.4"
  }
 },
 "nbformat": 4,
 "nbformat_minor": 5
}
