{
 "cells": [
  {
   "cell_type": "code",
   "execution_count": 2,
   "id": "3fb9315d",
   "metadata": {},
   "outputs": [],
   "source": [
    "import numpy as np\n",
    "import matplotlib.pyplot as plt\n",
    "import time"
   ]
  },
  {
   "cell_type": "markdown",
   "id": "4e0768c6",
   "metadata": {},
   "source": [
    "## This is the function to optimize: substitute A with vandermonde, x with theta, b with y. Also introduce the penalty term 1/sigma"
   ]
  },
  {
   "cell_type": "code",
   "execution_count": null,
   "id": "9bcbd97d",
   "metadata": {},
   "outputs": [],
   "source": [
    "def loss(x):\n",
    "    n = x.shape[0]\n",
    "    v = np.linspace(0,1,n)\n",
    "    x_true = np.ones((n,))\n",
    "    A = np.vander(v, increasing=True)\n",
    "    b = A @ x_true\n",
    "    return 0.5*np.linalg.norm(A@x_true-b)**2\n",
    "\n",
    "def grad_loss(x):\n",
    "    n = x.shape[0]\n",
    "    v = np.linspace(0,1,n)\n",
    "    x_true = np.ones((n,))\n",
    "    A = np.vander(v, increasing=True)\n",
    "    b = A @ x_true\n",
    "    return A.T@(A@x-b)"
   ]
  },
  {
   "cell_type": "code",
   "execution_count": 28,
   "id": "64ed401d",
   "metadata": {},
   "outputs": [],
   "source": [
    "def create_data(a, b, K, N, sigma, theta_true):\n",
    "    e = np.random.normal(0, sigma, (N,))\n",
    "    X = np.linspace(a, b, N)\n",
    "    Y = vandermonde(X,K)@theta_true + e \n",
    "    return X, Y\n",
    "\n",
    "def train_test_split(X, Y, N_train):\n",
    "    idx = np.arange(0,X.shape[-1])\n",
    "    np.random.shuffle(idx)\n",
    "    X_train = X[idx[:N_train]]\n",
    "    y_train = Y[idx[:N_train]]\n",
    "    X_test = X[idx[N_train:]]\n",
    "    y_test =Y[idx[N_train:]]\n",
    "    \n",
    "    return X_train, X_test, y_train, y_test"
   ]
  },
  {
   "cell_type": "code",
   "execution_count": 1,
   "id": "dcc5c3b9",
   "metadata": {},
   "outputs": [],
   "source": [
    "def backtracking(f, grad_f, x, multivariate):\n",
    "    \n",
    "    if multivariate:\n",
    "        norm = np.linalg.norm\n",
    "    else:\n",
    "        norm = np.abs\n",
    "\n",
    "    alpha = 1\n",
    "    c = 0.8\n",
    "    tau = 0.25\n",
    "\n",
    "    while f(x - alpha * grad_f(x, X, Y), X, Y) > f(x, X, Y) - c * alpha * norm(grad_f(x, X, Y)) ** 2:\n",
    "        alpha = tau * alpha\n",
    "\n",
    "        if alpha < 1e-3:\n",
    "            break\n",
    "    return alpha\n",
    "\n",
    "\n",
    "def GD(f, grad_f, x0, kmax, tolf, tolx, back_tracking=False, alpha=1, multivariate=True):\n",
    "    \n",
    "    if multivariate:\n",
    "        norm = np.linalg.norm\n",
    "    else:\n",
    "        norm = np.abs\n",
    "\n",
    "    # Initialize x_k\n",
    "    x_k = x0\n",
    "\n",
    "    # counter\n",
    "    k = 0\n",
    "\n",
    "    # Loop\n",
    "    condition = True\n",
    "    while condition:\n",
    "        # Update alpha\n",
    "        if back_tracking:\n",
    "            alpha = backtracking(f, grad_f, x_k, multivariate)\n",
    "        # Update x\n",
    "        x_k = x_k - alpha * grad_f(x_k, X, Y)\n",
    "\n",
    "        # check criteria\n",
    "        condition1 = norm(grad_f(x_k, X, Y)) > (tolf * norm(grad_f(x0, X, Y)))\n",
    "        condition2 = norm(x_k) > tolx\n",
    "        condition3 = k < kmax\n",
    "        condition = condition1 and condition2 and condition3\n",
    "\n",
    "        # update k\n",
    "        k += 1\n",
    "\n",
    "    return x_k#, k, np.array(x), np.array(f_val), np.array(grads), np.array(err)\n",
    "\n",
    "\n",
    "def SGD(loss, grad_loss, w0, D, batch_size, n_epochs, learning_rate=1e-3):\n",
    "    # Initialize the parameters w\n",
    "    w = w0\n",
    "        \n",
    "    # Extract X and y from D\n",
    "    X, y = D\n",
    "    \n",
    "    # Save in memory the length of X (and y)    They have the same dimension\n",
    "    N = X.shape[-1]\n",
    "    \n",
    "    # We assume that batch_size divides N\n",
    "    # Compute the number of batches per epoch\n",
    "    \n",
    "    n_batch_per_epoch = N // batch_size # integer division in case batch_size doesn't divide N\n",
    "    \n",
    "    # Iterate over the epochs\n",
    "    for epoch in range(n_epochs):\n",
    "        idx = np.arange(N)\n",
    "        np.random.shuffle(idx)\n",
    "        \n",
    "        # Batch iteration\n",
    "        for k in range(n_batch_per_epoch):\n",
    "            X_batch = X[idx[k * batch_size : (k+1) * batch_size]]\n",
    "            y_batch = y[idx[k * batch_size : (k+1) * batch_size]]\n",
    "            \n",
    "            B = (X_batch, y_batch) # it should not be necessary to define B.\n",
    "            \n",
    "            gradient = grad_loss(w, X_batch, y_batch)\n",
    "            w = w - learning_rate * gradient\n",
    "                        \n",
    "    return w\n",
    "\n",
    "def NEQ():\n",
    "    pass"
   ]
  },
  {
   "cell_type": "code",
   "execution_count": 29,
   "id": "167af0c0",
   "metadata": {},
   "outputs": [],
   "source": [
    "def vandermonde(X, K):\n",
    "    N = X.shape[-1]\n",
    "    Phi = np.zeros((N, K))\n",
    "    for k in range(K):\n",
    "        Phi[:, k] = X**k  \n",
    "    return Phi"
   ]
  },
  {
   "cell_type": "code",
   "execution_count": 36,
   "id": "6eb58bc6",
   "metadata": {},
   "outputs": [
    {
     "data": {
      "image/png": "[encoded data removed]",
      "text/plain": [
       "<Figure size 1000x500 with 1 Axes>"
      ]
     },
     "metadata": {},
     "output_type": "display_data"
    }
   ],
   "source": [
    "a,b,K,N,sigma = [-2,2,5,100,1]\n",
    "theta_true = np.ones(K)\n",
    "X,Y = create_data(a, b, K, N,  sigma, theta_true)\n",
    "\n",
    "plt.figure(figsize=(10,5))\n",
    "plt.scatter(X,Y)\n",
    "plt.grid()\n",
    "plt.show()"
   ]
  },
  {
   "cell_type": "code",
   "execution_count": null,
   "id": "f0c0c79a",
   "metadata": {},
   "outputs": [],
   "source": [
    "def MAP():"
   ]
  }
 ],
 "metadata": {
  "kernelspec": {
   "display_name": "Python 3 (ipykernel)",
   "language": "python",
   "name": "python3"
  },
  "language_info": {
   "codemirror_mode": {
    "name": "ipython",
    "version": 3
   },
   "file_extension": ".py",
   "mimetype": "text/x-python",
   "name": "python",
   "nbconvert_exporter": "python",
   "pygments_lexer": "ipython3",
   "version": "3.11.5"
  }
 },
 "nbformat": 4,
 "nbformat_minor": 5
}
