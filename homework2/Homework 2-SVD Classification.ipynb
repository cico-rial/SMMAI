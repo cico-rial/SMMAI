{
 "cells": [
  {
   "cell_type": "code",
   "execution_count": 1,
   "id": "ada53b7c",
   "metadata": {},
   "outputs": [],
   "source": [
    "def train_test_split(X, Y, N_train):\n",
    "    d, N = X.shape\n",
    "    \n",
    "    # Define the array of indices\n",
    "    idx = np.arange(0, N)\n",
    "    \n",
    "    # Shuffle the indices\n",
    "    np.random.shuffle(idx)\n",
    "    \n",
    "    # Extract train and test indices\n",
    "    train_idx = idx[:N_train]\n",
    "    test_idx = idx[N_train:]\n",
    "    \n",
    "    # Extract data\n",
    "    X_train = X[:, train_idx]\n",
    "    Y_train = Y[:, train_idx] #its important to not to loose the information of X and Y!! (Y contains the labels of the digit)\n",
    "    \n",
    "    X_test = X[:, test_idx]\n",
    "    Y_test = Y[:, test_idx]\n",
    "    \n",
    "    return X_train, Y_train, X_test, Y_test"
   ]
  },
  {
   "cell_type": "markdown",
   "id": "e5f3dcf0",
   "metadata": {},
   "source": [
    "## Classification of MNIST Digits with SVD Decomposition.\n",
    "\n",
    "1. In the first exercise, we will implement the binary classification algorithm for the digits 3 and 4 of MNIST following the ideas explained above."
   ]
  },
  {
   "cell_type": "markdown",
   "id": "129d4648",
   "metadata": {},
   "source": [
    "Load the **MNIST dataset** contained in **./data/MNIST.mat** with the function `scipy.io.loadmat`.\n",
    "This dataset, which is loaded in the form of a 256 ×1707 matrix $X$, contains the flattened version\n",
    "of 1707 16 × 16 grayscale handwritten digits. Moreover, from the same file it is possible to load\n",
    "a vector I of length 1707 such that the i-th element of I is the true digit represented by the i-th\n",
    "image of X."
   ]
  },
  {
   "cell_type": "code",
   "execution_count": 2,
   "id": "3a2e21b1",
   "metadata": {},
   "outputs": [],
   "source": [
    "import numpy as np\n",
    "import matplotlib.pyplot as plt\n",
    "import scipy.io\n",
    "import pandas as pd"
   ]
  },
  {
   "cell_type": "code",
   "execution_count": 3,
   "id": "94ebddfc",
   "metadata": {},
   "outputs": [
    {
     "name": "stdout",
     "output_type": "stream",
     "text": [
      "{'__header__': b'MATLAB 5.0 MAT-file, Platform: MACI64, Created on: Tue Mar 28 22:40:02 2017', '__version__': '1.0', '__globals__': [], 'X': array([[0.    , 0.    , 0.    , ..., 0.    , 0.    , 0.    ],\n",
      "       [0.    , 0.    , 0.    , ..., 0.    , 0.    , 0.    ],\n",
      "       [0.    , 0.    , 0.    , ..., 0.    , 0.    , 0.    ],\n",
      "       ...,\n",
      "       [0.    , 0.1645, 0.    , ..., 0.    , 0.    , 0.    ],\n",
      "       [0.    , 0.086 , 0.    , ..., 0.    , 0.    , 0.    ],\n",
      "       [0.    , 0.    , 0.    , ..., 0.    , 0.    , 0.    ]]), 'I': array([[6, 5, 4, ..., 7, 9, 8]], dtype=uint8)}\n"
     ]
    }
   ],
   "source": [
    "mnist = scipy.io.loadmat(\"dataset/MNIST.mat\")\n",
    "print(mnist)"
   ]
  },
  {
   "cell_type": "code",
   "execution_count": 4,
   "id": "34553566",
   "metadata": {},
   "outputs": [
    {
     "data": {
      "text/plain": [
       "((256, 1707), (1, 1707))"
      ]
     },
     "execution_count": 4,
     "metadata": {},
     "output_type": "execute_result"
    }
   ],
   "source": [
    "X = mnist['X']\n",
    "y = mnist['I']\n",
    "X.shape, y.shape"
   ]
  },
  {
   "cell_type": "markdown",
   "id": "9564935f",
   "metadata": {},
   "source": [
    "Visualize a bunch of datapoints of X with the function `plt.imshow`"
   ]
  },
  {
   "cell_type": "code",
   "execution_count": 5,
   "id": "90797bd2",
   "metadata": {},
   "outputs": [
    {
     "name": "stdout",
     "output_type": "stream",
     "text": [
      "Extracting random data points from the dataset:\n"
     ]
    },
    {
     "data": {
      "image/png": "[encoded data removed]",
      "text/plain": [
       "<Figure size 1000x1000 with 9 Axes>"
      ]
     },
     "metadata": {},
     "output_type": "display_data"
    }
   ],
   "source": [
    "idx = np.random.choice(X.shape[1], size=9, replace=False)\n",
    "fig, axes = plt.subplots(1,9, figsize=(10,10))\n",
    "print(\"Extracting random data points from the dataset:\")\n",
    "\n",
    "for i, index in enumerate(idx):\n",
    "    image = X[:, index].reshape(16,16)\n",
    "    axes[i].imshow(image, cmap=\"gray\")\n",
    "    axes[i].set_title(f\"label: {y[0, index]}\")\n",
    "    axes[i].axis(\"off\")"
   ]
  },
  {
   "cell_type": "markdown",
   "id": "11ec6a45",
   "metadata": {},
   "source": [
    "Extract from X those columns that corresponds to digits 3 or 4. Those digits represents the\n",
    "classes C1 and C2 defined above.\n"
   ]
  },
  {
   "cell_type": "code",
   "execution_count": 6,
   "id": "4320c899",
   "metadata": {},
   "outputs": [
    {
     "name": "stdout",
     "output_type": "stream",
     "text": [
      "unique values of classes in y: [3 4]\n"
     ]
    }
   ],
   "source": [
    "C1, C2 = 3, 4\n",
    "idx = (y[0] == C1) | (y[0] == C2)\n",
    "X_sub = X[:, idx]\n",
    "y_sub = y[:, idx]\n",
    "# print(X_sub.shape, y_sub.shape, y.shape)\n",
    "print(f\"Unique values of classes in y: {np.unique(y_sub)}\")"
   ]
  },
  {
   "cell_type": "markdown",
   "id": "b64628d6",
   "metadata": {},
   "source": [
    "Split the obtained dataset in training and testing. From now on, we will only consider the training\n",
    "set. The test set will be only used at the end of the exercise to test the algorithm."
   ]
  },
  {
   "cell_type": "code",
   "execution_count": 7,
   "id": "92d8937a",
   "metadata": {},
   "outputs": [],
   "source": [
    "N_train = int(0.8 * y_sub.shape[1]) # 80% of the dataset\n",
    "X_train, y_train, X_test, y_test = train_test_split(X_sub, y_sub, N_train)"
   ]
  },
  {
   "cell_type": "markdown",
   "id": "b921edde",
   "metadata": {},
   "source": [
    "• Create the matrices X1 and X2 defined above from X"
   ]
  },
  {
   "cell_type": "code",
   "execution_count": 8,
   "id": "5eceb6f7",
   "metadata": {},
   "outputs": [],
   "source": [
    "X1 = X_train[:,y_train[0] == C1]\n",
    "X2 = X_train[:,y_train[0] == C2]"
   ]
  },
  {
   "cell_type": "markdown",
   "id": "b9f5f0ea",
   "metadata": {},
   "source": [
    "Compute the SVD decomposition of X1 and X2 with `np.linalg.svd(matrix, full matrices=False)`\n",
    "and denote the U-part of the two decompositions as U1 and U2"
   ]
  },
  {
   "cell_type": "code",
   "execution_count": 9,
   "id": "94745b5e",
   "metadata": {},
   "outputs": [],
   "source": [
    "U1, s1, VT1 = np.linalg.svd(X1, full_matrices=False)\n",
    "\n",
    "U2, s2, VT2 = np.linalg.svd(X2, full_matrices=False)"
   ]
  },
  {
   "cell_type": "markdown",
   "id": "758d27ea",
   "metadata": {},
   "source": [
    "Take an unknown digit y from the test set, and compute $y^⊥_1 = U_1(U^T_1y)$ and $y^⊥_2 = U_2(U^T_2y)$.  \n",
    "\n",
    "Compute the distances $d_1 = ||y − y^⊥_1||_2$ and $d_2 = ||y − y^⊥_2||_2$ and classify $y$:  \n",
    "- to **C1** if $d1 < d2$; \n",
    "- to **C2** if $d2 < d1$."
   ]
  },
  {
   "cell_type": "code",
   "execution_count": 10,
   "id": "bbeaeb8d",
   "metadata": {
    "scrolled": true
   },
   "outputs": [
    {
     "name": "stdout",
     "output_type": "stream",
     "text": [
      "Extracting a random datapoint from the sub-dataset. True Label: 4\n"
     ]
    },
    {
     "data": {
      "image/png": "[encoded data removed]",
      "text/plain": [
       "<Figure size 200x200 with 1 Axes>"
      ]
     },
     "metadata": {},
     "output_type": "display_data"
    },
    {
     "name": "stdout",
     "output_type": "stream",
     "text": [
      "The sampled digit was classified as: 4\n"
     ]
    }
   ],
   "source": [
    "# extracting 10 indexes of samples\n",
    "index = np.random.choice(y_test.shape[1], size = 10, replace=False)\n",
    "y_true = X_test[:, index[0]]\n",
    "\n",
    "print(f\"Extracting a random datapoint from the sub-dataset. True Label: {y_test[0,index[0]]}\")\n",
    "plt.figure(figsize=(2,2))\n",
    "plt.imshow(y_true.reshape(16,16), cmap='gray')\n",
    "plt.axis('off')\n",
    "plt.show()\n",
    "\n",
    "y_1 = U1 @ (U1.T @ y_true)\n",
    "y_2 = U2 @ (U2.T @ y_true)\n",
    "d1 = np.linalg.norm(y_true - y_1, 2)\n",
    "d2 = np.linalg.norm(y_true - y_2, 2)\n",
    "\n",
    "if d1<=d2:\n",
    "    classification = C1\n",
    "else:\n",
    "    classification = C2\n",
    "print(f\"The sampled digit was classified as: {classification}\")"
   ]
  },
  {
   "cell_type": "markdown",
   "id": "80f3662c",
   "metadata": {},
   "source": [
    "Repeat the experiment for different values of y in the test set. Compute the misclassification\n",
    "number for this algorithm."
   ]
  },
  {
   "cell_type": "code",
   "execution_count": 11,
   "id": "da3baa64",
   "metadata": {},
   "outputs": [
    {
     "name": "stdout",
     "output_type": "stream",
     "text": [
      "Classifying 10 samples from the sub-dataset.\n",
      "\n",
      "Extracting a random datapoint from the dataset. True Label: 3\n",
      "The sampled digit was classified as: 3\n",
      "Extracting a random datapoint from the dataset. True Label: 4\n",
      "The sampled digit was classified as: 4\n",
      "Extracting a random datapoint from the dataset. True Label: 3\n",
      "The sampled digit was classified as: 3\n",
      "Extracting a random datapoint from the dataset. True Label: 3\n",
      "The sampled digit was classified as: 3\n",
      "Extracting a random datapoint from the dataset. True Label: 4\n",
      "The sampled digit was classified as: 4\n",
      "Extracting a random datapoint from the dataset. True Label: 3\n",
      "The sampled digit was classified as: 3\n",
      "Extracting a random datapoint from the dataset. True Label: 3\n",
      "The sampled digit was classified as: 3\n",
      "Extracting a random datapoint from the dataset. True Label: 3\n",
      "The sampled digit was classified as: 3\n",
      "Extracting a random datapoint from the dataset. True Label: 3\n",
      "The sampled digit was classified as: 3\n",
      "Extracting a random datapoint from the dataset. True Label: 3\n",
      "The sampled digit was classified as: 3\n",
      "\n",
      "Percentage of correct classification: 100.0%\n"
     ]
    }
   ],
   "source": [
    "N_test = y_test.shape[1]\n",
    "size = 10\n",
    "\n",
    "idx = np.random.choice(N_test, size = size, replace=False)\n",
    "correct_classification = 0\n",
    "\n",
    "print(f\"Classifying {size} samples from the sub-dataset.\\n\", end='\\n')\n",
    "for index in idx:\n",
    "    y_true = X_test[:, index]\n",
    "\n",
    "    print(f\"Extracting a random datapoint from the dataset. True Label: {y_test[0,index]}\")\n",
    "\n",
    "    y_1 = U1 @ (U1.T @ y_true)\n",
    "    y_2 = U2 @ (U2.T @ y_true)\n",
    "    d1 = np.linalg.norm(y_true - y_1, 2)\n",
    "    d2 = np.linalg.norm(y_true - y_2, 2)\n",
    "\n",
    "    if d1<=d2:\n",
    "        classification = C1\n",
    "    else:\n",
    "        classification = C2\n",
    "    print(f\"The sampled digit was classified as: {classification}\")\n",
    "    if classification == y_test[0,index]:\n",
    "        correct_classification += 1\n",
    "print(f\"\\nPercentage of correct classification: {round(correct_classification/size, 2)*100}%\")"
   ]
  },
  {
   "cell_type": "markdown",
   "id": "b73682ec",
   "metadata": {},
   "source": [
    "Repeat the experiment for different digits other than 3 or 4. There is a relationship between the\n",
    "visual similarity of the digits and the classification error?"
   ]
  },
  {
   "cell_type": "code",
   "execution_count": 12,
   "id": "29660639",
   "metadata": {},
   "outputs": [
    {
     "name": "stdout",
     "output_type": "stream",
     "text": [
      "Computing all the cross-classification between 2 classes:\n",
      "\n",
      "Percentage of correct classification between classes 1 and 2: 100.0%\n",
      "Percentage of correct classification between classes 1 and 3: 100.0%\n",
      "Percentage of correct classification between classes 1 and 4: 70.0%\n",
      "Percentage of correct classification between classes 1 and 5: 100.0%\n",
      "Percentage of correct classification between classes 1 and 6: 100.0%\n",
      "Percentage of correct classification between classes 1 and 7: 90.0%\n",
      "Percentage of correct classification between classes 1 and 8: 90.0%\n",
      "Percentage of correct classification between classes 1 and 9: 80.0%\n",
      "Percentage of correct classification between classes 2 and 3: 100.0%\n",
      "Percentage of correct classification between classes 2 and 4: 100.0%\n",
      "Percentage of correct classification between classes 2 and 5: 100.0%\n",
      "Percentage of correct classification between classes 2 and 6: 100.0%\n",
      "Percentage of correct classification between classes 2 and 7: 100.0%\n",
      "Percentage of correct classification between classes 2 and 8: 90.0%\n",
      "Percentage of correct classification between classes 2 and 9: 100.0%\n",
      "Percentage of correct classification between classes 3 and 4: 100.0%\n",
      "Percentage of correct classification between classes 3 and 5: 100.0%\n",
      "Percentage of correct classification between classes 3 and 6: 100.0%\n",
      "Percentage of correct classification between classes 3 and 7: 100.0%\n",
      "Percentage of correct classification between classes 3 and 8: 90.0%\n",
      "Percentage of correct classification between classes 3 and 9: 100.0%\n",
      "Percentage of correct classification between classes 4 and 5: 100.0%\n",
      "Percentage of correct classification between classes 4 and 6: 100.0%\n",
      "Percentage of correct classification between classes 4 and 7: 100.0%\n",
      "Percentage of correct classification between classes 4 and 8: 100.0%\n",
      "Percentage of correct classification between classes 4 and 9: 90.0%\n",
      "Percentage of correct classification between classes 5 and 6: 90.0%\n",
      "Percentage of correct classification between classes 5 and 7: 100.0%\n",
      "Percentage of correct classification between classes 5 and 8: 90.0%\n",
      "Percentage of correct classification between classes 5 and 9: 80.0%\n",
      "Percentage of correct classification between classes 6 and 7: 100.0%\n",
      "Percentage of correct classification between classes 6 and 8: 100.0%\n",
      "Percentage of correct classification between classes 6 and 9: 100.0%\n",
      "Percentage of correct classification between classes 7 and 8: 100.0%\n",
      "Percentage of correct classification between classes 7 and 9: 90.0%\n",
      "Percentage of correct classification between classes 8 and 9: 100.0%\n"
     ]
    }
   ],
   "source": [
    "print(\"Computing all the cross-classification between 2 classes:\\n\", end='\\n')\n",
    "\n",
    "C_done = []\n",
    "for C1 in range(1,10):\n",
    "    C_done.append(C1)\n",
    "    for C2 in range(1,10):\n",
    "        if C2 in C_done:\n",
    "            continue\n",
    "            \n",
    "        idx = (y[0] == C1) | (y[0] == C2)\n",
    "        X_sub = X[:, idx]\n",
    "        y_sub = y[:, idx]\n",
    "\n",
    "        N_train = int(0.8 * y_sub.shape[1])\n",
    "        X_train, y_train, X_test, y_test = train_test_split(X_sub, y_sub, N_train)\n",
    "\n",
    "        X1 = X_train[:,y_train[0] == C1]\n",
    "        X2 = X_train[:,y_train[0] == C2]\n",
    "\n",
    "        U1, s1, VT1 = np.linalg.svd(X1, full_matrices=False)\n",
    "        U2, s2, VT2 = np.linalg.svd(X2, full_matrices=False)\n",
    "        \n",
    "        idx = np.random.choice(y_test.shape[1], size = 10, replace=False)\n",
    "        correct_classification = 0\n",
    "\n",
    "        for index in idx:\n",
    "            y_true = X_test[:, index]\n",
    "\n",
    "            y_1 = U1 @ (U1.T @ y_true)\n",
    "            y_2 = U2 @ (U2.T @ y_true)\n",
    "            d1 = np.linalg.norm(y_true - y_1, 2)\n",
    "            d2 = np.linalg.norm(y_true - y_2, 2)\n",
    "\n",
    "            if d1<=d2:\n",
    "                classification = C1\n",
    "            else:\n",
    "                classification = C2\n",
    "                \n",
    "            if classification == y_test[0,index]:\n",
    "                correct_classification += 1\n",
    "        print(f\"Percentage of correct classification between classes {C1} and {C2}: {round(correct_classification/10, 2)*100}%\")"
   ]
  },
  {
   "cell_type": "markdown",
   "id": "2b9bb433",
   "metadata": {},
   "source": [
    "2. The extension of this idea to the multiple classification task is trivial. Indeed, if we have more than 2 classes (say, k different classes) C1, . . . , Ck, we just need to repeat the same procedure as before for each matrix X1, . . . , Xk to obtain the distances d1, . . . , dk. Then, the new digit y will be classified as Ci if di is lower that dj for each j = 1, . . . , k. Repeat the exercise above with a 3-digit example. Comment the differences."
   ]
  },
  {
   "cell_type": "code",
   "execution_count": 13,
   "id": "ef208dd7",
   "metadata": {
    "scrolled": false
   },
   "outputs": [
    {
     "name": "stdout",
     "output_type": "stream",
     "text": [
      "Computing the accuracy of the classificator for classes 1, 7, 9 on the entire testset.\n",
      "\n",
      "The sampled digit was classified as: 1. True one: 1\n",
      "The sampled digit was classified as: 7. True one: 7\n",
      "The sampled digit was classified as: 1. True one: 1\n",
      "The sampled digit was classified as: 1. True one: 7\n",
      "The sampled digit was classified as: 1. True one: 7\n",
      "The sampled digit was classified as: 1. True one: 7\n",
      "The sampled digit was classified as: 1. True one: 1\n",
      "The sampled digit was classified as: 7. True one: 7\n",
      "The sampled digit was classified as: 7. True one: 7\n",
      "The sampled digit was classified as: 1. True one: 1\n",
      "The sampled digit was classified as: 7. True one: 7\n",
      "The sampled digit was classified as: 1. True one: 1\n",
      "The sampled digit was classified as: 7. True one: 7\n",
      "The sampled digit was classified as: 1. True one: 1\n",
      "The sampled digit was classified as: 9. True one: 9\n",
      "The sampled digit was classified as: 1. True one: 7\n",
      "The sampled digit was classified as: 7. True one: 7\n",
      "The sampled digit was classified as: 1. True one: 1\n",
      "The sampled digit was classified as: 1. True one: 1\n",
      "The sampled digit was classified as: 7. True one: 7\n",
      "The sampled digit was classified as: 1. True one: 1\n",
      "The sampled digit was classified as: 1. True one: 9\n",
      "The sampled digit was classified as: 1. True one: 9\n",
      "The sampled digit was classified as: 7. True one: 7\n",
      "The sampled digit was classified as: 1. True one: 1\n",
      "The sampled digit was classified as: 1. True one: 7\n",
      "The sampled digit was classified as: 9. True one: 9\n",
      "The sampled digit was classified as: 1. True one: 1\n",
      "The sampled digit was classified as: 1. True one: 9\n",
      "The sampled digit was classified as: 1. True one: 1\n",
      "The sampled digit was classified as: 9. True one: 9\n",
      "The sampled digit was classified as: 7. True one: 7\n",
      "The sampled digit was classified as: 1. True one: 1\n",
      "The sampled digit was classified as: 1. True one: 7\n",
      "The sampled digit was classified as: 1. True one: 7\n",
      "The sampled digit was classified as: 1. True one: 1\n",
      "The sampled digit was classified as: 1. True one: 1\n",
      "The sampled digit was classified as: 7. True one: 7\n",
      "The sampled digit was classified as: 1. True one: 1\n",
      "The sampled digit was classified as: 1. True one: 1\n",
      "The sampled digit was classified as: 7. True one: 7\n",
      "The sampled digit was classified as: 1. True one: 9\n",
      "The sampled digit was classified as: 1. True one: 7\n",
      "The sampled digit was classified as: 1. True one: 1\n",
      "The sampled digit was classified as: 1. True one: 7\n",
      "The sampled digit was classified as: 1. True one: 1\n",
      "The sampled digit was classified as: 1. True one: 7\n",
      "The sampled digit was classified as: 7. True one: 7\n",
      "The sampled digit was classified as: 1. True one: 1\n",
      "The sampled digit was classified as: 1. True one: 1\n",
      "The sampled digit was classified as: 1. True one: 7\n",
      "The sampled digit was classified as: 1. True one: 1\n",
      "The sampled digit was classified as: 7. True one: 7\n",
      "The sampled digit was classified as: 1. True one: 1\n",
      "The sampled digit was classified as: 7. True one: 7\n",
      "The sampled digit was classified as: 1. True one: 1\n",
      "The sampled digit was classified as: 1. True one: 7\n",
      "The sampled digit was classified as: 1. True one: 1\n",
      "The sampled digit was classified as: 1. True one: 1\n",
      "The sampled digit was classified as: 1. True one: 1\n",
      "The sampled digit was classified as: 1. True one: 1\n",
      "The sampled digit was classified as: 1. True one: 1\n",
      "The sampled digit was classified as: 7. True one: 7\n",
      "The sampled digit was classified as: 7. True one: 7\n",
      "The sampled digit was classified as: 7. True one: 7\n",
      "The sampled digit was classified as: 1. True one: 1\n",
      "The sampled digit was classified as: 1. True one: 1\n",
      "The sampled digit was classified as: 9. True one: 9\n",
      "The sampled digit was classified as: 7. True one: 9\n",
      "The sampled digit was classified as: 1. True one: 1\n",
      "The sampled digit was classified as: 1. True one: 7\n",
      "The sampled digit was classified as: 1. True one: 1\n",
      "The sampled digit was classified as: 1. True one: 9\n",
      "The sampled digit was classified as: 9. True one: 9\n",
      "The sampled digit was classified as: 1. True one: 7\n",
      "The sampled digit was classified as: 1. True one: 1\n",
      "The sampled digit was classified as: 1. True one: 1\n",
      "The sampled digit was classified as: 1. True one: 9\n",
      "The sampled digit was classified as: 1. True one: 7\n",
      "The sampled digit was classified as: 1. True one: 9\n",
      "The sampled digit was classified as: 1. True one: 1\n",
      "The sampled digit was classified as: 1. True one: 1\n",
      "The sampled digit was classified as: 7. True one: 7\n",
      "The sampled digit was classified as: 9. True one: 9\n",
      "The sampled digit was classified as: 1. True one: 7\n",
      "The sampled digit was classified as: 1. True one: 9\n",
      "The sampled digit was classified as: 1. True one: 7\n",
      "The sampled digit was classified as: 1. True one: 9\n",
      "The sampled digit was classified as: 1. True one: 1\n",
      "The sampled digit was classified as: 1. True one: 9\n",
      "The sampled digit was classified as: 1. True one: 7\n",
      "The sampled digit was classified as: 1. True one: 9\n",
      "The sampled digit was classified as: 7. True one: 9\n",
      "The sampled digit was classified as: 1. True one: 1\n",
      "The sampled digit was classified as: 1. True one: 1\n",
      "The sampled digit was classified as: 1. True one: 1\n",
      "The sampled digit was classified as: 1. True one: 7\n",
      "The sampled digit was classified as: 1. True one: 1\n",
      "The sampled digit was classified as: 1. True one: 1\n",
      "The sampled digit was classified as: 7. True one: 7\n",
      "The sampled digit was classified as: 1. True one: 9\n",
      "The sampled digit was classified as: 1. True one: 7\n",
      "The sampled digit was classified as: 1. True one: 1\n",
      "The sampled digit was classified as: 9. True one: 9\n",
      "The sampled digit was classified as: 1. True one: 9\n",
      "The sampled digit was classified as: 1. True one: 1\n",
      "The sampled digit was classified as: 7. True one: 7\n",
      "The sampled digit was classified as: 7. True one: 7\n",
      "The sampled digit was classified as: 1. True one: 1\n",
      "The sampled digit was classified as: 1. True one: 9\n",
      "\n",
      "Percentage of correct classification between 1,7 and 9: 67.0% of the entire test set (110 samples)\n"
     ]
    }
   ],
   "source": [
    "C1, C2, C3 = (1,7,9)\n",
    "print(F\"Computing the accuracy of the classificator for classes {C1}, {C2}, {C3} on the entire testset.\\n\")\n",
    "\n",
    "idx = (y[0] == C1) | (y[0] == C2) | (y[0] == C3)\n",
    "X_sub = X[:, idx]\n",
    "y_sub = y[:, idx]\n",
    "\n",
    "N_train = int(0.8 * y_sub.shape[1])\n",
    "X_train, y_train, X_test, y_test = train_test_split(X_sub, y_sub, N_train)\n",
    "\n",
    "X1 = X_train[:,y_train[0] == C1]\n",
    "X2 = X_train[:,y_train[0] == C2]\n",
    "X3 = X_train[:,y_train[0] == C3]\n",
    "\n",
    "N_test = y_test.shape[1]\n",
    "\n",
    "U1, s1, VT1 = np.linalg.svd(X1, full_matrices=False)\n",
    "U2, s2, VT2 = np.linalg.svd(X2, full_matrices=False)\n",
    "U3, s3, VT3 = np.linalg.svd(X3, full_matrices=False)\n",
    "\n",
    "idx = np.random.choice(N_test, size = N_test, replace=False)\n",
    "correct_classification = 0\n",
    "\n",
    "for index in idx:\n",
    "    y_true = X_test[:, index]\n",
    "    \n",
    "#     plt.figure(figsize=(3,3))\n",
    "#     plt.imshow(y_true.reshape(16,16), cmap='gray')\n",
    "#     plt.axis('off')\n",
    "#     plt.show()\n",
    "\n",
    "    y_1 = U1 @ (U1.T @ y_true)\n",
    "    y_2 = U2 @ (U2.T @ y_true)\n",
    "    y_3 = U3 @ (U3.T @ y_true)\n",
    "    d1 = np.linalg.norm(y_true - y_1, 2)\n",
    "    d2 = np.linalg.norm(y_true - y_2, 2)\n",
    "    d3 = np.linalg.norm(y_true - y_3, 2)\n",
    "    \n",
    "    classification = sorted(zip([d1, d2, d3],[C1, C2, C3]))[0][1]\n",
    "\n",
    "    print(f\"The sampled digit was classified as: {classification}. True one: {y_test[0,index]}\")\n",
    "    if classification == y_test[0,index]:\n",
    "        correct_classification += 1\n",
    "print(f\"\\nPercentage of correct classification between {C1},{C2} and {C3}: {round(correct_classification/N_test, 2)*100}% of the entire test set ({len(idx)} samples)\")\n"
   ]
  },
  {
   "cell_type": "code",
   "execution_count": null,
   "id": "eb43e6f5",
   "metadata": {},
   "outputs": [],
   "source": []
  }
 ],
 "metadata": {
  "kernelspec": {
   "display_name": "Python 3 (ipykernel)",
   "language": "python",
   "name": "python3"
  },
  "language_info": {
   "codemirror_mode": {
    "name": "ipython",
    "version": 3
   },
   "file_extension": ".py",
   "mimetype": "text/x-python",
   "name": "python",
   "nbconvert_exporter": "python",
   "pygments_lexer": "ipython3",
   "version": "3.11.4"
  }
 },
 "nbformat": 4,
 "nbformat_minor": 5
}
