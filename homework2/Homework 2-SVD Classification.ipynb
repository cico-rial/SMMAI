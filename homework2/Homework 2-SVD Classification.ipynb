{
 "cells": [
  {
   "cell_type": "code",
   "execution_count": 2,
   "id": "3a2e21b1",
   "metadata": {},
   "outputs": [],
   "source": [
    "import numpy as np\n",
    "import matplotlib.pyplot as plt\n",
    "import scipy.io\n",
    "import pandas as pd\n",
    "random_state = 42"
   ]
  },
  {
   "cell_type": "code",
   "execution_count": 1,
   "id": "ada53b7c",
   "metadata": {},
   "outputs": [],
   "source": [
    "def train_test_split(X, Y, N_train):\n",
    "    np.random.seed(random_state)\n",
    "    d, N = X.shape\n",
    "    \n",
    "    # Define the array of indices\n",
    "    idx = np.arange(0, N)\n",
    "    \n",
    "    # Shuffle the indices\n",
    "    np.random.shuffle(idx)\n",
    "    \n",
    "    # Extract train and test indices\n",
    "    train_idx = idx[:N_train]\n",
    "    test_idx = idx[N_train:]\n",
    "    \n",
    "    # Extract data\n",
    "    X_train = X[:, train_idx]\n",
    "    Y_train = Y[:, train_idx] #its important to not to loose the information of X and Y!! (Y contains the labels of the digit)\n",
    "    \n",
    "    X_test = X[:, test_idx]\n",
    "    Y_test = Y[:, test_idx]\n",
    "    \n",
    "    return X_train, Y_train, X_test, Y_test"
   ]
  },
  {
   "cell_type": "code",
   "execution_count": 3,
   "id": "54ebecf2",
   "metadata": {},
   "outputs": [],
   "source": [
    "def test_classes(C1,C2,X,y,C3=False):\n",
    "    # building the dataset from the chosen classes\n",
    "    if C3 != False:\n",
    "        idx = (y[0] == C1) | (y[0] == C2) | (y[0] == C3)\n",
    "        n_classes = 3\n",
    "    else:\n",
    "        idx = (y[0] == C1) | (y[0] == C2) \n",
    "        n_classes = 2\n",
    "    X_sub = X[:, idx]\n",
    "    y_sub = y[:, idx]    \n",
    "    N_train = int(0.8 * y_sub.shape[1]) # 80% of the dataset\n",
    "    X_train, y_train, X_test, y_test = train_test_split(X_sub, y_sub, N_train)\n",
    "    X1 = X_train[:,y_train[0] == C1]\n",
    "    X2 = X_train[:,y_train[0] == C2] \n",
    "    # training our model\n",
    "    U1, s1, VT1 = np.linalg.svd(X1, full_matrices=False)\n",
    "    U2, s2, VT2 = np.linalg.svd(X2, full_matrices=False)\n",
    "    \n",
    "    if C3 != False:\n",
    "        X3 = X_train[:,y_train[0] == C3]\n",
    "        U3, s3, VT3 = np.linalg.svd(X3, full_matrices=False)\n",
    "        n_classes = 3\n",
    "   \n",
    "    confusion_matrix = np.zeros((n_classes,n_classes))\n",
    "    N_test = y_test.shape[1]\n",
    "    size = N_test\n",
    "    correct_classification = 0\n",
    "\n",
    "    for index in range(0,N_test):\n",
    "        y_true = X_test[:, index]\n",
    "        y_1 = U1 @ (U1.T @ y_true)\n",
    "        y_2 = U2 @ (U2.T @ y_true)\n",
    "        d1 = np.linalg.norm(y_true - y_1, 2)\n",
    "        d2 = np.linalg.norm(y_true - y_2, 2)\n",
    "        \n",
    "        if C3 != False:\n",
    "            y_3 = U3 @ (U3.T @ y_true)\n",
    "            d3 = np.linalg.norm(y_true - y_3, 2)\n",
    "            \n",
    "            classification = sorted(zip([d1, d2, d3],[C1, C2, C3]))[0][1]\n",
    "            j = sorted(zip([d1, d2, d3],[0,1,2]))[0][1]\n",
    "            if y_test[0,index] == C1:\n",
    "                i = 0\n",
    "            elif y_test[0,index] == C2:\n",
    "                i = 1\n",
    "            elif y_test[0,index] == C3:\n",
    "                i=2\n",
    "            if i==j:\n",
    "                correct_classification += 1\n",
    "            confusion_matrix[i,j] += 1\n",
    "            \n",
    "        else:\n",
    "            classification = sorted(zip([d1, d2],[C1, C2]))[0][1]\n",
    "            j = sorted(zip([d1, d2],[0, 1]))[0][1]\n",
    "            if y_test[0,index] == C1:\n",
    "                i = 0\n",
    "            elif y_test[0,index] == C2:\n",
    "                i = 1\n",
    "            if i==j:\n",
    "                correct_classification += 1 \n",
    "            confusion_matrix[i,j] += 1\n",
    "\n",
    "    print(f\"CLASSES {C1},{C2}\" + f\",{C3}\" if C3 != False else \"\")            \n",
    "    print(f\"Percentage of correct classification: {round(correct_classification/size, 2)*100}%\")\n",
    "    print(f\"\\nInstances of class {C1}: {np.sum(y_test==C1)}\")\n",
    "    print(f\"Instances of class {C2}: {np.sum(y_test==C2)}\")\n",
    "    if C3 != False:\n",
    "        print(f\"Instances of class {C3}: {np.sum(y_test==C3)}\")\n",
    "    print(f\"\\nConfusion matrix:\\n {confusion_matrix}\")"
   ]
  },
  {
   "cell_type": "markdown",
   "id": "e5f3dcf0",
   "metadata": {},
   "source": [
    "## Classification of MNIST Digits with SVD Decomposition.\n",
    "\n",
    "1. In the first exercise, we will implement the binary classification algorithm for the digits 3 and 4 of MNIST following the ideas explained above."
   ]
  },
  {
   "cell_type": "markdown",
   "id": "129d4648",
   "metadata": {},
   "source": [
    "Load the **MNIST dataset** contained in **./data/MNIST.mat** with the function `scipy.io.loadmat`.\n",
    "This dataset, which is loaded in the form of a 256 ×1707 matrix $X$, contains the flattened version\n",
    "of 1707 16 × 16 grayscale handwritten digits. Moreover, from the same file it is possible to load\n",
    "a vector I of length 1707 such that the i-th element of I is the true digit represented by the i-th\n",
    "image of X."
   ]
  },
  {
   "cell_type": "code",
   "execution_count": 4,
   "id": "94ebddfc",
   "metadata": {},
   "outputs": [],
   "source": [
    "mnist = scipy.io.loadmat(\"dataset/MNIST.mat\")\n",
    "# print(mnist)"
   ]
  },
  {
   "cell_type": "code",
   "execution_count": 5,
   "id": "34553566",
   "metadata": {},
   "outputs": [
    {
     "data": {
      "text/plain": [
       "((256, 1707), (1, 1707))"
      ]
     },
     "execution_count": 5,
     "metadata": {},
     "output_type": "execute_result"
    }
   ],
   "source": [
    "X = mnist['X']\n",
    "y = mnist['I']\n",
    "X.shape, y.shape"
   ]
  },
  {
   "cell_type": "markdown",
   "id": "9564935f",
   "metadata": {},
   "source": [
    "• Visualize a bunch of datapoints of X with the function `plt.imshow`"
   ]
  },
  {
   "cell_type": "code",
   "execution_count": 30,
   "id": "90797bd2",
   "metadata": {},
   "outputs": [
    {
     "name": "stdout",
     "output_type": "stream",
     "text": [
      "Extracting random data points from the dataset:\n",
      "Instances of class 0: 319\n",
      "Instances of class 1: 252\n",
      "Instances of class 2: 202\n",
      "Instances of class 3: 131\n",
      "Instances of class 4: 122\n",
      "Instances of class 5: 88\n",
      "Instances of class 6: 151\n",
      "Instances of class 7: 166\n",
      "Instances of class 8: 144\n",
      "Instances of class 9: 132\n"
     ]
    },
    {
     "data": {
      "image/png": "[encoded data removed]",
      "text/plain": [
       "<Figure size 1000x1000 with 9 Axes>"
      ]
     },
     "metadata": {},
     "output_type": "display_data"
    }
   ],
   "source": [
    "idx = np.random.choice(X.shape[1], size=9, replace=False)\n",
    "fig, axes = plt.subplots(1,9, figsize=(10,10))\n",
    "print(\"Extracting random data points from the dataset:\")\n",
    "\n",
    "for i, index in enumerate(idx):\n",
    "    image = X[:, index].reshape(16,16)\n",
    "    axes[i].imshow(image, cmap=\"gray\")\n",
    "    axes[i].set_title(f\"label: {y[0, index]}\")\n",
    "    axes[i].axis(\"off\")\n",
    "    \n",
    "for i in range(0,10,1):\n",
    "    print(f\"Instances of class {i}: {np.sum(y[0]==i)}\")"
   ]
  },
  {
   "cell_type": "markdown",
   "id": "ecab40ff",
   "metadata": {},
   "source": [
    "We can clearly see that our dataset is a bit imbalanced!"
   ]
  },
  {
   "cell_type": "markdown",
   "id": "11ec6a45",
   "metadata": {},
   "source": [
    "• Extract from X those columns that corresponds to digits 3 or 4. Those digits represents the\n",
    "classes C1 and C2 defined above.\n"
   ]
  },
  {
   "cell_type": "code",
   "execution_count": 41,
   "id": "4320c899",
   "metadata": {},
   "outputs": [
    {
     "name": "stdout",
     "output_type": "stream",
     "text": [
      "Unique values of classes in y: [3 4]\n"
     ]
    }
   ],
   "source": [
    "C1, C2 = 3,4\n",
    "idx = (y[0] == C1) | (y[0] == C2)\n",
    "X_sub = X[:, idx]\n",
    "y_sub = y[:, idx]\n",
    "# print(X_sub.shape, y_sub.shape, y.shape)\n",
    "print(f\"Unique values of classes in y: {np.unique(y_sub)}\")"
   ]
  },
  {
   "cell_type": "markdown",
   "id": "b64628d6",
   "metadata": {},
   "source": [
    "• Split the obtained dataset in training and testing. From now on, we will only consider the training\n",
    "set. The test set will be only used at the end of the exercise to test the algorithm."
   ]
  },
  {
   "cell_type": "code",
   "execution_count": 42,
   "id": "92d8937a",
   "metadata": {},
   "outputs": [],
   "source": [
    "N_train = int(0.8 * y_sub.shape[1]) # 80% of the dataset\n",
    "X_train, y_train, X_test, y_test = train_test_split(X_sub, y_sub, N_train)"
   ]
  },
  {
   "cell_type": "markdown",
   "id": "b921edde",
   "metadata": {},
   "source": [
    "• Create the matrices X1 and X2 defined above from X"
   ]
  },
  {
   "cell_type": "code",
   "execution_count": 43,
   "id": "5eceb6f7",
   "metadata": {},
   "outputs": [],
   "source": [
    "X1 = X_train[:,y_train[0] == C1]\n",
    "X2 = X_train[:,y_train[0] == C2]"
   ]
  },
  {
   "cell_type": "markdown",
   "id": "b9f5f0ea",
   "metadata": {},
   "source": [
    "• Compute the SVD decomposition of X1 and X2 with `np.linalg.svd(matrix, full matrices=False)`\n",
    "and denote the U-part of the two decompositions as U1 and U2"
   ]
  },
  {
   "cell_type": "code",
   "execution_count": 44,
   "id": "94745b5e",
   "metadata": {},
   "outputs": [],
   "source": [
    "U1, s1, VT1 = np.linalg.svd(X1, full_matrices=False)\n",
    "U2, s2, VT2 = np.linalg.svd(X2, full_matrices=False)"
   ]
  },
  {
   "cell_type": "markdown",
   "id": "758d27ea",
   "metadata": {},
   "source": [
    "• Take an unknown digit y from the test set, and compute $y^⊥_1 = U_1(U^T_1y)$ and $y^⊥_2 = U_2(U^T_2y)$.  \n",
    "\n",
    "• Compute the distances $d_1 = ||y − y^⊥_1||_2$ and $d_2 = ||y − y^⊥_2||_2$ and classify $y$:  \n",
    "- to **C1** if $d1 < d2$; \n",
    "- to **C2** if $d2 < d1$."
   ]
  },
  {
   "cell_type": "code",
   "execution_count": 45,
   "id": "bbeaeb8d",
   "metadata": {
    "scrolled": true
   },
   "outputs": [
    {
     "name": "stdout",
     "output_type": "stream",
     "text": [
      "Extracting a random datapoint from the sub-dataset. True Label: 3\n"
     ]
    },
    {
     "data": {
      "image/png": "[encoded data removed]",
      "text/plain": [
       "<Figure size 200x200 with 1 Axes>"
      ]
     },
     "metadata": {},
     "output_type": "display_data"
    },
    {
     "name": "stdout",
     "output_type": "stream",
     "text": [
      "The sampled digit was classified as: 3\n"
     ]
    }
   ],
   "source": [
    "index = np.random.choice(y_test.shape[1], size = 10, replace=False)\n",
    "y_true = X_test[:, index[0]] # y_true represents a datapoint!\n",
    "\n",
    "print(f\"Extracting a random datapoint from the sub-dataset. True Label: {y_test[0,index[0]]}\")\n",
    "plt.figure(figsize=(2,2))\n",
    "plt.imshow(y_true.reshape(16,16), cmap='gray')\n",
    "plt.axis('off')\n",
    "plt.show()\n",
    "\n",
    "y_1 = U1 @ (U1.T @ y_true)\n",
    "y_2 = U2 @ (U2.T @ y_true)\n",
    "d1 = np.linalg.norm(y_true - y_1, 2)\n",
    "d2 = np.linalg.norm(y_true - y_2, 2)\n",
    "\n",
    "if d1<=d2:\n",
    "    classification = C1\n",
    "else:\n",
    "    classification = C2\n",
    "print(f\"The sampled digit was classified as: {classification}\")"
   ]
  },
  {
   "cell_type": "markdown",
   "id": "80f3662c",
   "metadata": {},
   "source": [
    "• Repeat the experiment for different values of y in the test set. Compute the misclassification\n",
    "number for this algorithm."
   ]
  },
  {
   "cell_type": "code",
   "execution_count": 46,
   "id": "da3baa64",
   "metadata": {},
   "outputs": [
    {
     "name": "stdout",
     "output_type": "stream",
     "text": [
      "CLASSES 3 AND 4\n",
      "Percentage of correct classification: 100.0%\n",
      "\n",
      "Instances of class 3: 25\n",
      "Instances of class 4: 26\n",
      "\n",
      "Confusion matrix:\n",
      " [[25.  0.]\n",
      " [ 0. 26.]]\n"
     ]
    }
   ],
   "source": [
    "confusion_matrix = np.zeros((2,2))\n",
    "N_test = y_test.shape[1]\n",
    "size = N_test\n",
    "correct_classification = 0\n",
    "\n",
    "for index in range(0,N_test):\n",
    "    y_true = X_test[:, index]\n",
    "    y_1 = U1 @ (U1.T @ y_true)\n",
    "    y_2 = U2 @ (U2.T @ y_true)\n",
    "    d1 = np.linalg.norm(y_true - y_1, 2)\n",
    "    d2 = np.linalg.norm(y_true - y_2, 2)\n",
    "\n",
    "    if d1<=d2:\n",
    "        classification = C1\n",
    "        if classification == y_test[0,index]:\n",
    "            confusion_matrix[0,0] += 1\n",
    "            correct_classification += 1\n",
    "        else:\n",
    "            confusion_matrix[1,0] += 1\n",
    "    else:\n",
    "        classification = C2\n",
    "        if classification == y_test[0,index]:\n",
    "            correct_classification += 1\n",
    "            confusion_matrix[1,1] += 1\n",
    "        else:\n",
    "            confusion_matrix[0,1] += 1\n",
    "print(f\"CLASSES {C1} AND {C2}\")            \n",
    "print(f\"Percentage of correct classification: {round(correct_classification/size, 2)*100}%\")\n",
    "print(f\"\\nInstances of class {C1}: {np.sum(y_test==C1)}\")\n",
    "print(f\"Instances of class {C2}: {np.sum(y_test==C2)}\")\n",
    "print(f\"\\nConfusion matrix:\\n {confusion_matrix}\")"
   ]
  },
  {
   "cell_type": "markdown",
   "id": "963bf2ee",
   "metadata": {},
   "source": [
    "Classes 3 and 4 have a very close number of samples, and they look pretty different. As a matter of fact, our model had no problem in classifying them correctly! Let's see what happens with an umbalanced number of samples.  "
   ]
  },
  {
   "cell_type": "markdown",
   "id": "b73682ec",
   "metadata": {},
   "source": [
    "• Repeat the experiment for different digits other than 3 or 4. There is a relationship between the\n",
    "visual similarity of the digits and the classification error?"
   ]
  },
  {
   "cell_type": "code",
   "execution_count": 53,
   "id": "bf4d8fcf",
   "metadata": {},
   "outputs": [
    {
     "name": "stdout",
     "output_type": "stream",
     "text": [
      "\n",
      "Percentage of correct classification: 74.0%\n",
      "\n",
      "Instances of class 5: 21\n",
      "Instances of class 0: 61\n",
      "\n",
      "Confusion matrix:\n",
      " [[ 0. 21.]\n",
      " [ 0. 61.]]\n"
     ]
    }
   ],
   "source": [
    "C1,C2,C3 = 0,5,False\n",
    "test_classes(C1,C2,mnist['X'],mnist['I'],C3)"
   ]
  },
  {
   "cell_type": "markdown",
   "id": "82482fab",
   "metadata": {},
   "source": [
    "We saw at the beginning that the number of instances of class 5 is way lower than the others. In fact, our model is not even able to classify a single instance of number 5! This made our model overfitted on the training data!"
   ]
  },
  {
   "cell_type": "code",
   "execution_count": 57,
   "id": "da73dc3a",
   "metadata": {},
   "outputs": [
    {
     "name": "stdout",
     "output_type": "stream",
     "text": [
      "\n",
      "Percentage of correct classification: 98.0%\n",
      "\n",
      "Instances of class 4: 27\n",
      "Instances of class 7: 31\n",
      "\n",
      "Confusion matrix:\n",
      " [[27.  0.]\n",
      " [ 1. 30.]]\n"
     ]
    }
   ],
   "source": [
    "C1,C2,C3 = 4,7,False\n",
    "test_classes(C1,C2,mnist['X'],mnist['I'],C3)"
   ]
  },
  {
   "cell_type": "markdown",
   "id": "9653f2d2",
   "metadata": {},
   "source": [
    "even tho they look pretty similiar, our model had no problem in classifying them"
   ]
  },
  {
   "cell_type": "markdown",
   "id": "2b9bb433",
   "metadata": {},
   "source": [
    "2. The extension of this idea to the multiple classification task is trivial. Indeed, if we have more than 2 classes (say, k different classes) C1, . . . , Ck, we just need to repeat the same procedure as before for each matrix X1, . . . , Xk to obtain the distances d1, . . . , dk. Then, the new digit y will be classified as Ci if di is lower that dj for each j = 1, . . . , k. Repeat the exercise above with a 3-digit example. Comment the differences."
   ]
  },
  {
   "cell_type": "code",
   "execution_count": 54,
   "id": "8cf99174",
   "metadata": {},
   "outputs": [
    {
     "name": "stdout",
     "output_type": "stream",
     "text": [
      "CLASSES 3,8,9\n",
      "Percentage of correct classification: 93.0%\n",
      "\n",
      "Instances of class 3: 27\n",
      "Instances of class 8: 31\n",
      "Instances of class 9: 24\n",
      "\n",
      "Confusion matrix:\n",
      " [[23.  4.  0.]\n",
      " [ 1. 29.  1.]\n",
      " [ 0.  0. 24.]]\n"
     ]
    }
   ],
   "source": [
    "C1,C2,C3 = 3,8,9\n",
    "test_classes(C1,C2,X,y,C3)"
   ]
  },
  {
   "cell_type": "code",
   "execution_count": 55,
   "id": "eb43e6f5",
   "metadata": {},
   "outputs": [
    {
     "name": "stdout",
     "output_type": "stream",
     "text": [
      "CLASSES 1,7,9\n",
      "Percentage of correct classification: 75.0%\n",
      "\n",
      "Instances of class 1: 51\n",
      "Instances of class 7: 38\n",
      "Instances of class 9: 21\n",
      "\n",
      "Confusion matrix:\n",
      " [[51.  0.  0.]\n",
      " [14. 23.  1.]\n",
      " [12.  0.  9.]]\n"
     ]
    }
   ],
   "source": [
    "C1,C2,C3 = 1,7,9\n",
    "test_classes(C1,C2,X,y,C3)"
   ]
  }
 ],
 "metadata": {
  "kernelspec": {
   "display_name": "Python 3 (ipykernel)",
   "language": "python",
   "name": "python3"
  },
  "language_info": {
   "codemirror_mode": {
    "name": "ipython",
    "version": 3
   },
   "file_extension": ".py",
   "mimetype": "text/x-python",
   "name": "python",
   "nbconvert_exporter": "python",
   "pygments_lexer": "ipython3",
   "version": "3.11.5"
  }
 },
 "nbformat": 4,
 "nbformat_minor": 5
}
